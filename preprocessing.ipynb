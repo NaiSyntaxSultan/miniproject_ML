{
 "cells": [
  {
   "cell_type": "code",
   "id": "initial_id",
   "metadata": {
    "collapsed": true,
    "ExecuteTime": {
     "end_time": "2025-09-05T12:58:13.381284Z",
     "start_time": "2025-09-05T12:58:11.807181Z"
    }
   },
   "source": [
    "import pandas as pd\n",
    "\n",
    "df = pd.read_csv(\"data/data.csv\")"
   ],
   "outputs": [],
   "execution_count": 2
  },
  {
   "metadata": {
    "ExecuteTime": {
     "end_time": "2025-09-05T12:58:13.419457Z",
     "start_time": "2025-09-05T12:58:13.414962Z"
    }
   },
   "cell_type": "code",
   "source": "df.shape",
   "id": "e76e61bb09e0de4d",
   "outputs": [
    {
     "data": {
      "text/plain": [
       "(6930, 7)"
      ]
     },
     "execution_count": 3,
     "metadata": {},
     "output_type": "execute_result"
    }
   ],
   "execution_count": 3
  },
  {
   "metadata": {
    "ExecuteTime": {
     "end_time": "2025-09-05T12:58:13.525513Z",
     "start_time": "2025-09-05T12:58:13.516615Z"
    }
   },
   "cell_type": "code",
   "source": "df.head()",
   "id": "753ca67fc13d1396",
   "outputs": [
    {
     "data": {
      "text/plain": [
       "   YEAR  MONTH  PROV_ID           PROV_T    MinRain     MaxRain     AvgRain\n",
       "0  2018      1       10    กรุงเทพมหานคร  54.299999  257.230011  142.119137\n",
       "1  2018      1       11      สมุทรปราการ  76.250000  256.100006  137.302046\n",
       "2  2018      1       12          นนทบุรี  38.360001  161.470001  113.433771\n",
       "3  2018      1       13         ปทุมธานี  51.439999  116.500000   82.901688\n",
       "4  2018      1       14  พระนครศรีอยุธยา   8.850000   88.589996   39.960089"
      ],
      "text/html": [
       "<div>\n",
       "<style scoped>\n",
       "    .dataframe tbody tr th:only-of-type {\n",
       "        vertical-align: middle;\n",
       "    }\n",
       "\n",
       "    .dataframe tbody tr th {\n",
       "        vertical-align: top;\n",
       "    }\n",
       "\n",
       "    .dataframe thead th {\n",
       "        text-align: right;\n",
       "    }\n",
       "</style>\n",
       "<table border=\"1\" class=\"dataframe\">\n",
       "  <thead>\n",
       "    <tr style=\"text-align: right;\">\n",
       "      <th></th>\n",
       "      <th>YEAR</th>\n",
       "      <th>MONTH</th>\n",
       "      <th>PROV_ID</th>\n",
       "      <th>PROV_T</th>\n",
       "      <th>MinRain</th>\n",
       "      <th>MaxRain</th>\n",
       "      <th>AvgRain</th>\n",
       "    </tr>\n",
       "  </thead>\n",
       "  <tbody>\n",
       "    <tr>\n",
       "      <th>0</th>\n",
       "      <td>2018</td>\n",
       "      <td>1</td>\n",
       "      <td>10</td>\n",
       "      <td>กรุงเทพมหานคร</td>\n",
       "      <td>54.299999</td>\n",
       "      <td>257.230011</td>\n",
       "      <td>142.119137</td>\n",
       "    </tr>\n",
       "    <tr>\n",
       "      <th>1</th>\n",
       "      <td>2018</td>\n",
       "      <td>1</td>\n",
       "      <td>11</td>\n",
       "      <td>สมุทรปราการ</td>\n",
       "      <td>76.250000</td>\n",
       "      <td>256.100006</td>\n",
       "      <td>137.302046</td>\n",
       "    </tr>\n",
       "    <tr>\n",
       "      <th>2</th>\n",
       "      <td>2018</td>\n",
       "      <td>1</td>\n",
       "      <td>12</td>\n",
       "      <td>นนทบุรี</td>\n",
       "      <td>38.360001</td>\n",
       "      <td>161.470001</td>\n",
       "      <td>113.433771</td>\n",
       "    </tr>\n",
       "    <tr>\n",
       "      <th>3</th>\n",
       "      <td>2018</td>\n",
       "      <td>1</td>\n",
       "      <td>13</td>\n",
       "      <td>ปทุมธานี</td>\n",
       "      <td>51.439999</td>\n",
       "      <td>116.500000</td>\n",
       "      <td>82.901688</td>\n",
       "    </tr>\n",
       "    <tr>\n",
       "      <th>4</th>\n",
       "      <td>2018</td>\n",
       "      <td>1</td>\n",
       "      <td>14</td>\n",
       "      <td>พระนครศรีอยุธยา</td>\n",
       "      <td>8.850000</td>\n",
       "      <td>88.589996</td>\n",
       "      <td>39.960089</td>\n",
       "    </tr>\n",
       "  </tbody>\n",
       "</table>\n",
       "</div>"
      ]
     },
     "execution_count": 4,
     "metadata": {},
     "output_type": "execute_result"
    }
   ],
   "execution_count": 4
  },
  {
   "metadata": {
    "ExecuteTime": {
     "end_time": "2025-09-05T12:58:13.632936Z",
     "start_time": "2025-09-05T12:58:13.617743Z"
    }
   },
   "cell_type": "code",
   "source": "df.describe()",
   "id": "fe9f098113a6eac6",
   "outputs": [
    {
     "data": {
      "text/plain": [
       "              YEAR        MONTH      PROV_ID      MinRain      MaxRain  \\\n",
       "count  6930.000000  6930.000000  6930.000000  6930.000000  6930.000000   \n",
       "mean   2021.266667     6.300000    51.129870    84.419091   187.822074   \n",
       "std       2.174758     3.446503    24.943993    98.945118   188.850980   \n",
       "min    2018.000000     1.000000    10.000000     0.000000     0.000000   \n",
       "25%    2019.000000     3.000000    31.000000     4.190000    35.715001   \n",
       "50%    2021.000000     6.000000    50.000000    54.564999   147.255002   \n",
       "75%    2023.000000     9.000000    72.000000   134.017502   274.867497   \n",
       "max    2025.000000    12.000000    96.000000  1264.140000  1642.350000   \n",
       "\n",
       "           AvgRain  \n",
       "count  6930.000000  \n",
       "mean    128.413216  \n",
       "std     132.170843  \n",
       "min       0.000000  \n",
       "25%      17.491740  \n",
       "50%      98.582359  \n",
       "75%     196.334559  \n",
       "max    1452.629329  "
      ],
      "text/html": [
       "<div>\n",
       "<style scoped>\n",
       "    .dataframe tbody tr th:only-of-type {\n",
       "        vertical-align: middle;\n",
       "    }\n",
       "\n",
       "    .dataframe tbody tr th {\n",
       "        vertical-align: top;\n",
       "    }\n",
       "\n",
       "    .dataframe thead th {\n",
       "        text-align: right;\n",
       "    }\n",
       "</style>\n",
       "<table border=\"1\" class=\"dataframe\">\n",
       "  <thead>\n",
       "    <tr style=\"text-align: right;\">\n",
       "      <th></th>\n",
       "      <th>YEAR</th>\n",
       "      <th>MONTH</th>\n",
       "      <th>PROV_ID</th>\n",
       "      <th>MinRain</th>\n",
       "      <th>MaxRain</th>\n",
       "      <th>AvgRain</th>\n",
       "    </tr>\n",
       "  </thead>\n",
       "  <tbody>\n",
       "    <tr>\n",
       "      <th>count</th>\n",
       "      <td>6930.000000</td>\n",
       "      <td>6930.000000</td>\n",
       "      <td>6930.000000</td>\n",
       "      <td>6930.000000</td>\n",
       "      <td>6930.000000</td>\n",
       "      <td>6930.000000</td>\n",
       "    </tr>\n",
       "    <tr>\n",
       "      <th>mean</th>\n",
       "      <td>2021.266667</td>\n",
       "      <td>6.300000</td>\n",
       "      <td>51.129870</td>\n",
       "      <td>84.419091</td>\n",
       "      <td>187.822074</td>\n",
       "      <td>128.413216</td>\n",
       "    </tr>\n",
       "    <tr>\n",
       "      <th>std</th>\n",
       "      <td>2.174758</td>\n",
       "      <td>3.446503</td>\n",
       "      <td>24.943993</td>\n",
       "      <td>98.945118</td>\n",
       "      <td>188.850980</td>\n",
       "      <td>132.170843</td>\n",
       "    </tr>\n",
       "    <tr>\n",
       "      <th>min</th>\n",
       "      <td>2018.000000</td>\n",
       "      <td>1.000000</td>\n",
       "      <td>10.000000</td>\n",
       "      <td>0.000000</td>\n",
       "      <td>0.000000</td>\n",
       "      <td>0.000000</td>\n",
       "    </tr>\n",
       "    <tr>\n",
       "      <th>25%</th>\n",
       "      <td>2019.000000</td>\n",
       "      <td>3.000000</td>\n",
       "      <td>31.000000</td>\n",
       "      <td>4.190000</td>\n",
       "      <td>35.715001</td>\n",
       "      <td>17.491740</td>\n",
       "    </tr>\n",
       "    <tr>\n",
       "      <th>50%</th>\n",
       "      <td>2021.000000</td>\n",
       "      <td>6.000000</td>\n",
       "      <td>50.000000</td>\n",
       "      <td>54.564999</td>\n",
       "      <td>147.255002</td>\n",
       "      <td>98.582359</td>\n",
       "    </tr>\n",
       "    <tr>\n",
       "      <th>75%</th>\n",
       "      <td>2023.000000</td>\n",
       "      <td>9.000000</td>\n",
       "      <td>72.000000</td>\n",
       "      <td>134.017502</td>\n",
       "      <td>274.867497</td>\n",
       "      <td>196.334559</td>\n",
       "    </tr>\n",
       "    <tr>\n",
       "      <th>max</th>\n",
       "      <td>2025.000000</td>\n",
       "      <td>12.000000</td>\n",
       "      <td>96.000000</td>\n",
       "      <td>1264.140000</td>\n",
       "      <td>1642.350000</td>\n",
       "      <td>1452.629329</td>\n",
       "    </tr>\n",
       "  </tbody>\n",
       "</table>\n",
       "</div>"
      ]
     },
     "execution_count": 5,
     "metadata": {},
     "output_type": "execute_result"
    }
   ],
   "execution_count": 5
  },
  {
   "metadata": {
    "ExecuteTime": {
     "end_time": "2025-09-05T12:58:13.731378Z",
     "start_time": "2025-09-05T12:58:13.725091Z"
    }
   },
   "cell_type": "code",
   "source": "df.info()",
   "id": "e095ecc127e819da",
   "outputs": [
    {
     "name": "stdout",
     "output_type": "stream",
     "text": [
      "<class 'pandas.core.frame.DataFrame'>\n",
      "RangeIndex: 6930 entries, 0 to 6929\n",
      "Data columns (total 7 columns):\n",
      " #   Column   Non-Null Count  Dtype  \n",
      "---  ------   --------------  -----  \n",
      " 0   YEAR     6930 non-null   int64  \n",
      " 1   MONTH    6930 non-null   int64  \n",
      " 2   PROV_ID  6930 non-null   int64  \n",
      " 3   PROV_T   6930 non-null   object \n",
      " 4   MinRain  6930 non-null   float64\n",
      " 5   MaxRain  6930 non-null   float64\n",
      " 6   AvgRain  6930 non-null   float64\n",
      "dtypes: float64(3), int64(3), object(1)\n",
      "memory usage: 379.1+ KB\n"
     ]
    }
   ],
   "execution_count": 6
  },
  {
   "metadata": {
    "ExecuteTime": {
     "end_time": "2025-09-05T12:58:13.899352Z",
     "start_time": "2025-09-05T12:58:13.894793Z"
    }
   },
   "cell_type": "code",
   "source": "df.isnull().sum()",
   "id": "bcf6c29a817d952c",
   "outputs": [
    {
     "data": {
      "text/plain": [
       "YEAR       0\n",
       "MONTH      0\n",
       "PROV_ID    0\n",
       "PROV_T     0\n",
       "MinRain    0\n",
       "MaxRain    0\n",
       "AvgRain    0\n",
       "dtype: int64"
      ]
     },
     "execution_count": 7,
     "metadata": {},
     "output_type": "execute_result"
    }
   ],
   "execution_count": 7
  },
  {
   "metadata": {
    "ExecuteTime": {
     "end_time": "2025-09-05T13:00:00.066517Z",
     "start_time": "2025-09-05T13:00:00.060354Z"
    }
   },
   "cell_type": "code",
   "source": [
    "# นับจำนวนจังหวัดในแต่ละปีและเดือน\n",
    "result = df.groupby(['YEAR', 'MONTH'])['PROV_ID'].nunique().reset_index()\n",
    "\n",
    "# เปลี่ยนชื่อคอลัมน์ให้เข้าใจง่าย\n",
    "result = result.rename(columns={'PROV_ID': 'Num_Provinces'})\n",
    "\n",
    "# แสดงทั้งหมด (ไม่ตัด)\n",
    "pd.set_option('display.max_rows', None)\n",
    "\n",
    "print(result)"
   ],
   "id": "f869b52d373148ec",
   "outputs": [
    {
     "name": "stdout",
     "output_type": "stream",
     "text": [
      "    YEAR  MONTH  Num_Provinces\n",
      "0   2018      1             77\n",
      "1   2018      2             77\n",
      "2   2018      3             77\n",
      "3   2018      4             77\n",
      "4   2018      5             77\n",
      "5   2018      6             77\n",
      "6   2018      7             77\n",
      "7   2018      8             77\n",
      "8   2018      9             77\n",
      "9   2018     10             77\n",
      "10  2018     11             77\n",
      "11  2018     12             77\n",
      "12  2019      1             77\n",
      "13  2019      2             77\n",
      "14  2019      3             77\n",
      "15  2019      4             77\n",
      "16  2019      5             77\n",
      "17  2019      6             77\n",
      "18  2019      7             77\n",
      "19  2019      8             77\n",
      "20  2019      9             77\n",
      "21  2019     10             77\n",
      "22  2019     11             77\n",
      "23  2019     12             77\n",
      "24  2020      1             77\n",
      "25  2020      2             77\n",
      "26  2020      3             77\n",
      "27  2020      4             77\n",
      "28  2020      5             77\n",
      "29  2020      6             77\n",
      "30  2020      7             77\n",
      "31  2020      8             77\n",
      "32  2020      9             77\n",
      "33  2020     10             77\n",
      "34  2020     11             77\n",
      "35  2020     12             77\n",
      "36  2021      1             77\n",
      "37  2021      2             77\n",
      "38  2021      3             77\n",
      "39  2021      4             77\n",
      "40  2021      5             77\n",
      "41  2021      6             77\n",
      "42  2021      7             77\n",
      "43  2021      8             77\n",
      "44  2021      9             77\n",
      "45  2021     10             77\n",
      "46  2021     11             77\n",
      "47  2021     12             77\n",
      "48  2022      1             77\n",
      "49  2022      2             77\n",
      "50  2022      3             77\n",
      "51  2022      4             77\n",
      "52  2022      5             77\n",
      "53  2022      6             77\n",
      "54  2022      7             77\n",
      "55  2022      8             77\n",
      "56  2022      9             77\n",
      "57  2022     10             77\n",
      "58  2022     11             77\n",
      "59  2022     12             77\n",
      "60  2023      1             77\n",
      "61  2023      2             77\n",
      "62  2023      3             77\n",
      "63  2023      4             77\n",
      "64  2023      5             77\n",
      "65  2023      6             77\n",
      "66  2023      7             77\n",
      "67  2023      8             77\n",
      "68  2023      9             77\n",
      "69  2023     10             77\n",
      "70  2023     11             77\n",
      "71  2023     12             77\n",
      "72  2024      1             77\n",
      "73  2024      2             77\n",
      "74  2024      3             77\n",
      "75  2024      4             77\n",
      "76  2024      5             77\n",
      "77  2024      6             77\n",
      "78  2024      7             77\n",
      "79  2024      8             77\n",
      "80  2024      9             77\n",
      "81  2024     10             77\n",
      "82  2024     11             77\n",
      "83  2024     12             77\n",
      "84  2025      1             77\n",
      "85  2025      2             77\n",
      "86  2025      3             77\n",
      "87  2025      4             77\n",
      "88  2025      5             77\n",
      "89  2025      6             77\n"
     ]
    }
   ],
   "execution_count": 9
  }
 ],
 "metadata": {
  "kernelspec": {
   "display_name": "Python 3",
   "language": "python",
   "name": "python3"
  },
  "language_info": {
   "codemirror_mode": {
    "name": "ipython",
    "version": 2
   },
   "file_extension": ".py",
   "mimetype": "text/x-python",
   "name": "python",
   "nbconvert_exporter": "python",
   "pygments_lexer": "ipython2",
   "version": "2.7.6"
  }
 },
 "nbformat": 4,
 "nbformat_minor": 5
}
