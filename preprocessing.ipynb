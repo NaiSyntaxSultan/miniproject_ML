{
 "cells": [
  {
   "cell_type": "code",
   "id": "initial_id",
   "metadata": {
    "collapsed": true,
    "ExecuteTime": {
     "end_time": "2025-09-05T11:54:24.209059Z",
     "start_time": "2025-09-05T11:54:24.199235Z"
    }
   },
   "source": [
    "import pandas as pd\n",
    "\n",
    "df = pd.read_csv(\"data/data.csv\")"
   ],
   "outputs": [],
   "execution_count": 2
  },
  {
   "metadata": {
    "ExecuteTime": {
     "end_time": "2025-09-05T11:57:23.011632Z",
     "start_time": "2025-09-05T11:57:23.008022Z"
    }
   },
   "cell_type": "code",
   "source": "df.shape",
   "id": "e76e61bb09e0de4d",
   "outputs": [
    {
     "data": {
      "text/plain": [
       "(6930, 7)"
      ]
     },
     "execution_count": 7,
     "metadata": {},
     "output_type": "execute_result"
    }
   ],
   "execution_count": 7
  },
  {
   "metadata": {
    "ExecuteTime": {
     "end_time": "2025-09-05T11:54:53.450903Z",
     "start_time": "2025-09-05T11:54:53.444646Z"
    }
   },
   "cell_type": "code",
   "source": "df.head()",
   "id": "753ca67fc13d1396",
   "outputs": [
    {
     "data": {
      "text/plain": [
       "   YEAR  MONTH  PROV_ID           PROV_T    MinRain     MaxRain     AvgRain\n",
       "0  2018      1       10    กรุงเทพมหานคร  54.299999  257.230011  142.119137\n",
       "1  2018      1       11      สมุทรปราการ  76.250000  256.100006  137.302046\n",
       "2  2018      1       12          นนทบุรี  38.360001  161.470001  113.433771\n",
       "3  2018      1       13         ปทุมธานี  51.439999  116.500000   82.901688\n",
       "4  2018      1       14  พระนครศรีอยุธยา   8.850000   88.589996   39.960089"
      ],
      "text/html": [
       "<div>\n",
       "<style scoped>\n",
       "    .dataframe tbody tr th:only-of-type {\n",
       "        vertical-align: middle;\n",
       "    }\n",
       "\n",
       "    .dataframe tbody tr th {\n",
       "        vertical-align: top;\n",
       "    }\n",
       "\n",
       "    .dataframe thead th {\n",
       "        text-align: right;\n",
       "    }\n",
       "</style>\n",
       "<table border=\"1\" class=\"dataframe\">\n",
       "  <thead>\n",
       "    <tr style=\"text-align: right;\">\n",
       "      <th></th>\n",
       "      <th>YEAR</th>\n",
       "      <th>MONTH</th>\n",
       "      <th>PROV_ID</th>\n",
       "      <th>PROV_T</th>\n",
       "      <th>MinRain</th>\n",
       "      <th>MaxRain</th>\n",
       "      <th>AvgRain</th>\n",
       "    </tr>\n",
       "  </thead>\n",
       "  <tbody>\n",
       "    <tr>\n",
       "      <th>0</th>\n",
       "      <td>2018</td>\n",
       "      <td>1</td>\n",
       "      <td>10</td>\n",
       "      <td>กรุงเทพมหานคร</td>\n",
       "      <td>54.299999</td>\n",
       "      <td>257.230011</td>\n",
       "      <td>142.119137</td>\n",
       "    </tr>\n",
       "    <tr>\n",
       "      <th>1</th>\n",
       "      <td>2018</td>\n",
       "      <td>1</td>\n",
       "      <td>11</td>\n",
       "      <td>สมุทรปราการ</td>\n",
       "      <td>76.250000</td>\n",
       "      <td>256.100006</td>\n",
       "      <td>137.302046</td>\n",
       "    </tr>\n",
       "    <tr>\n",
       "      <th>2</th>\n",
       "      <td>2018</td>\n",
       "      <td>1</td>\n",
       "      <td>12</td>\n",
       "      <td>นนทบุรี</td>\n",
       "      <td>38.360001</td>\n",
       "      <td>161.470001</td>\n",
       "      <td>113.433771</td>\n",
       "    </tr>\n",
       "    <tr>\n",
       "      <th>3</th>\n",
       "      <td>2018</td>\n",
       "      <td>1</td>\n",
       "      <td>13</td>\n",
       "      <td>ปทุมธานี</td>\n",
       "      <td>51.439999</td>\n",
       "      <td>116.500000</td>\n",
       "      <td>82.901688</td>\n",
       "    </tr>\n",
       "    <tr>\n",
       "      <th>4</th>\n",
       "      <td>2018</td>\n",
       "      <td>1</td>\n",
       "      <td>14</td>\n",
       "      <td>พระนครศรีอยุธยา</td>\n",
       "      <td>8.850000</td>\n",
       "      <td>88.589996</td>\n",
       "      <td>39.960089</td>\n",
       "    </tr>\n",
       "  </tbody>\n",
       "</table>\n",
       "</div>"
      ]
     },
     "execution_count": 3,
     "metadata": {},
     "output_type": "execute_result"
    }
   ],
   "execution_count": 3
  },
  {
   "metadata": {
    "ExecuteTime": {
     "end_time": "2025-09-05T11:54:55.626057Z",
     "start_time": "2025-09-05T11:54:55.612322Z"
    }
   },
   "cell_type": "code",
   "source": "df.describe()",
   "id": "fe9f098113a6eac6",
   "outputs": [
    {
     "data": {
      "text/plain": [
       "              YEAR        MONTH      PROV_ID      MinRain      MaxRain  \\\n",
       "count  6930.000000  6930.000000  6930.000000  6930.000000  6930.000000   \n",
       "mean   2021.266667     6.300000    51.129870    84.419091   187.822074   \n",
       "std       2.174758     3.446503    24.943993    98.945118   188.850980   \n",
       "min    2018.000000     1.000000    10.000000     0.000000     0.000000   \n",
       "25%    2019.000000     3.000000    31.000000     4.190000    35.715001   \n",
       "50%    2021.000000     6.000000    50.000000    54.564999   147.255002   \n",
       "75%    2023.000000     9.000000    72.000000   134.017502   274.867497   \n",
       "max    2025.000000    12.000000    96.000000  1264.140000  1642.350000   \n",
       "\n",
       "           AvgRain  \n",
       "count  6930.000000  \n",
       "mean    128.413216  \n",
       "std     132.170843  \n",
       "min       0.000000  \n",
       "25%      17.491740  \n",
       "50%      98.582359  \n",
       "75%     196.334559  \n",
       "max    1452.629329  "
      ],
      "text/html": [
       "<div>\n",
       "<style scoped>\n",
       "    .dataframe tbody tr th:only-of-type {\n",
       "        vertical-align: middle;\n",
       "    }\n",
       "\n",
       "    .dataframe tbody tr th {\n",
       "        vertical-align: top;\n",
       "    }\n",
       "\n",
       "    .dataframe thead th {\n",
       "        text-align: right;\n",
       "    }\n",
       "</style>\n",
       "<table border=\"1\" class=\"dataframe\">\n",
       "  <thead>\n",
       "    <tr style=\"text-align: right;\">\n",
       "      <th></th>\n",
       "      <th>YEAR</th>\n",
       "      <th>MONTH</th>\n",
       "      <th>PROV_ID</th>\n",
       "      <th>MinRain</th>\n",
       "      <th>MaxRain</th>\n",
       "      <th>AvgRain</th>\n",
       "    </tr>\n",
       "  </thead>\n",
       "  <tbody>\n",
       "    <tr>\n",
       "      <th>count</th>\n",
       "      <td>6930.000000</td>\n",
       "      <td>6930.000000</td>\n",
       "      <td>6930.000000</td>\n",
       "      <td>6930.000000</td>\n",
       "      <td>6930.000000</td>\n",
       "      <td>6930.000000</td>\n",
       "    </tr>\n",
       "    <tr>\n",
       "      <th>mean</th>\n",
       "      <td>2021.266667</td>\n",
       "      <td>6.300000</td>\n",
       "      <td>51.129870</td>\n",
       "      <td>84.419091</td>\n",
       "      <td>187.822074</td>\n",
       "      <td>128.413216</td>\n",
       "    </tr>\n",
       "    <tr>\n",
       "      <th>std</th>\n",
       "      <td>2.174758</td>\n",
       "      <td>3.446503</td>\n",
       "      <td>24.943993</td>\n",
       "      <td>98.945118</td>\n",
       "      <td>188.850980</td>\n",
       "      <td>132.170843</td>\n",
       "    </tr>\n",
       "    <tr>\n",
       "      <th>min</th>\n",
       "      <td>2018.000000</td>\n",
       "      <td>1.000000</td>\n",
       "      <td>10.000000</td>\n",
       "      <td>0.000000</td>\n",
       "      <td>0.000000</td>\n",
       "      <td>0.000000</td>\n",
       "    </tr>\n",
       "    <tr>\n",
       "      <th>25%</th>\n",
       "      <td>2019.000000</td>\n",
       "      <td>3.000000</td>\n",
       "      <td>31.000000</td>\n",
       "      <td>4.190000</td>\n",
       "      <td>35.715001</td>\n",
       "      <td>17.491740</td>\n",
       "    </tr>\n",
       "    <tr>\n",
       "      <th>50%</th>\n",
       "      <td>2021.000000</td>\n",
       "      <td>6.000000</td>\n",
       "      <td>50.000000</td>\n",
       "      <td>54.564999</td>\n",
       "      <td>147.255002</td>\n",
       "      <td>98.582359</td>\n",
       "    </tr>\n",
       "    <tr>\n",
       "      <th>75%</th>\n",
       "      <td>2023.000000</td>\n",
       "      <td>9.000000</td>\n",
       "      <td>72.000000</td>\n",
       "      <td>134.017502</td>\n",
       "      <td>274.867497</td>\n",
       "      <td>196.334559</td>\n",
       "    </tr>\n",
       "    <tr>\n",
       "      <th>max</th>\n",
       "      <td>2025.000000</td>\n",
       "      <td>12.000000</td>\n",
       "      <td>96.000000</td>\n",
       "      <td>1264.140000</td>\n",
       "      <td>1642.350000</td>\n",
       "      <td>1452.629329</td>\n",
       "    </tr>\n",
       "  </tbody>\n",
       "</table>\n",
       "</div>"
      ]
     },
     "execution_count": 4,
     "metadata": {},
     "output_type": "execute_result"
    }
   ],
   "execution_count": 4
  },
  {
   "metadata": {
    "ExecuteTime": {
     "end_time": "2025-09-05T11:54:57.612168Z",
     "start_time": "2025-09-05T11:54:57.603677Z"
    }
   },
   "cell_type": "code",
   "source": "df.info()",
   "id": "e095ecc127e819da",
   "outputs": [
    {
     "name": "stdout",
     "output_type": "stream",
     "text": [
      "<class 'pandas.core.frame.DataFrame'>\n",
      "RangeIndex: 6930 entries, 0 to 6929\n",
      "Data columns (total 7 columns):\n",
      " #   Column   Non-Null Count  Dtype  \n",
      "---  ------   --------------  -----  \n",
      " 0   YEAR     6930 non-null   int64  \n",
      " 1   MONTH    6930 non-null   int64  \n",
      " 2   PROV_ID  6930 non-null   int64  \n",
      " 3   PROV_T   6930 non-null   object \n",
      " 4   MinRain  6930 non-null   float64\n",
      " 5   MaxRain  6930 non-null   float64\n",
      " 6   AvgRain  6930 non-null   float64\n",
      "dtypes: float64(3), int64(3), object(1)\n",
      "memory usage: 379.1+ KB\n"
     ]
    }
   ],
   "execution_count": 5
  },
  {
   "metadata": {
    "ExecuteTime": {
     "end_time": "2025-09-05T11:54:59.017257Z",
     "start_time": "2025-09-05T11:54:59.012539Z"
    }
   },
   "cell_type": "code",
   "source": "df.isnull().sum()",
   "id": "bcf6c29a817d952c",
   "outputs": [
    {
     "data": {
      "text/plain": [
       "YEAR       0\n",
       "MONTH      0\n",
       "PROV_ID    0\n",
       "PROV_T     0\n",
       "MinRain    0\n",
       "MaxRain    0\n",
       "AvgRain    0\n",
       "dtype: int64"
      ]
     },
     "execution_count": 6,
     "metadata": {},
     "output_type": "execute_result"
    }
   ],
   "execution_count": 6
  },
  {
   "metadata": {},
   "cell_type": "code",
   "outputs": [],
   "execution_count": null,
   "source": "",
   "id": "f869b52d373148ec"
  }
 ],
 "metadata": {
  "kernelspec": {
   "display_name": "Python 3",
   "language": "python",
   "name": "python3"
  },
  "language_info": {
   "codemirror_mode": {
    "name": "ipython",
    "version": 2
   },
   "file_extension": ".py",
   "mimetype": "text/x-python",
   "name": "python",
   "nbconvert_exporter": "python",
   "pygments_lexer": "ipython2",
   "version": "2.7.6"
  }
 },
 "nbformat": 4,
 "nbformat_minor": 5
}
